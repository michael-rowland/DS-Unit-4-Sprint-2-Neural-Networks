{
 "cells": [
  {
   "cell_type": "code",
   "execution_count": 41,
   "metadata": {},
   "outputs": [],
   "source": [
    "from random import shuffle"
   ]
  },
  {
   "cell_type": "code",
   "execution_count": 42,
   "metadata": {},
   "outputs": [],
   "source": [
    "def santa(names=None):\n",
    "    shuffle(names)\n",
    "    for i, name in enumerate(names):\n",
    "        if i < len(names)-1:\n",
    "            print(name, names[i+1])\n",
    "        else:\n",
    "            print(name, names[0])"
   ]
  },
  {
   "cell_type": "code",
   "execution_count": 43,
   "metadata": {},
   "outputs": [
    {
     "name": "stdout",
     "output_type": "stream",
     "text": [
      "KEITH CONNOR\n",
      "CONNOR JANE\n",
      "JANE JIMMY\n",
      "JIMMY MICHAEL\n",
      "MICHAEL KEITH\n"
     ]
    }
   ],
   "source": [
    "names = ['KEITH', 'JANE', 'MICHAEL', 'JIMMY', 'CONNOR']\n",
    "santa(names)"
   ]
  }
 ],
 "metadata": {
  "kernelspec": {
   "display_name": "4-1",
   "language": "python",
   "name": "4-1"
  },
  "language_info": {
   "codemirror_mode": {
    "name": "ipython",
    "version": 3
   },
   "file_extension": ".py",
   "mimetype": "text/x-python",
   "name": "python",
   "nbconvert_exporter": "python",
   "pygments_lexer": "ipython3",
   "version": "3.7.0"
  }
 },
 "nbformat": 4,
 "nbformat_minor": 4
}
