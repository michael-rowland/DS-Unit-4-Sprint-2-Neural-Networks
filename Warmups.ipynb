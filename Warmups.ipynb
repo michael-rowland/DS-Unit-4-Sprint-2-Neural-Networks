{
 "cells": [
  {
   "cell_type": "markdown",
   "metadata": {},
   "source": [
    "Anika wants to run a Secret Santa for Christmas but has a lot of friends and doesn't want to have to assign everyone by hand. Write a function that takes in an ordered list of names, shuffles it, and then assigns each person a Secret Santa. Per the rules of Secret Santa, no one should be receiving from someone they gave to.\n",
    "\n",
    "```Example:\n",
    "santas = ['a','b','c','d','e']\n",
    "secret_santafy(santas) ->\n",
    "c b\n",
    "b e\n",
    "e a\n",
    "a d\n",
    "d c\n",
    "```"
   ]
  },
  {
   "cell_type": "code",
   "execution_count": 2,
   "metadata": {},
   "outputs": [],
   "source": [
    "from random import shuffle"
   ]
  },
  {
   "cell_type": "code",
   "execution_count": 3,
   "metadata": {},
   "outputs": [],
   "source": [
    "def santa(names=None):\n",
    "    shuffle(names)\n",
    "    for i, name in enumerate(names):\n",
    "        if i < len(names)-1:\n",
    "            print(name, names[i+1])\n",
    "        else:\n",
    "            print(name, names[0])"
   ]
  },
  {
   "cell_type": "code",
   "execution_count": 4,
   "metadata": {},
   "outputs": [
    {
     "name": "stdout",
     "output_type": "stream",
     "text": [
      "KEITH JANE\n",
      "JANE CONNOR\n",
      "CONNOR JIMMY\n",
      "JIMMY MICHAEL\n",
      "MICHAEL KEITH\n"
     ]
    }
   ],
   "source": [
    "names = ['KEITH', 'JANE', 'MICHAEL', 'JIMMY', 'CONNOR']\n",
    "santa(names)"
   ]
  },
  {
   "cell_type": "markdown",
   "metadata": {},
   "source": [
    "Write a function that takes in a non-empty array of distinct integers and an integer representing a target sum. If any two numbers in the input array sum up to the target sum, the function should return them in an array, in sorted order. If no two numbers sum up to the target sum, the function should return an empty array.\n",
    "Assume that there will be at most one pair of numbers summing up to the target sum.\n",
    "\n",
    "Sample input: [3,5,-4,8,11,1,-1,6], 10\n",
    "\n",
    "Sample output: [-1,11]"
   ]
  },
  {
   "cell_type": "code",
   "execution_count": 8,
   "metadata": {},
   "outputs": [],
   "source": [
    "def sum_finder(input_list=None, sum_total=0):\n",
    "    pairs = []\n",
    "    for i in input_list:\n",
    "        for j in input_list:\n",
    "            if i + j == sum_total:\n",
    "                print(i, j)\n",
    "                pairs.append((i, j))\n",
    "    \n",
    "    return pairs"
   ]
  },
  {
   "cell_type": "code",
   "execution_count": 7,
   "metadata": {},
   "outputs": [
    {
     "name": "stdout",
     "output_type": "stream",
     "text": [
      "5 5\n",
      "11 -1\n",
      "-1 11\n"
     ]
    },
    {
     "data": {
      "text/plain": [
       "[(5, 5), (11, -1), (-1, 11)]"
      ]
     },
     "execution_count": 7,
     "metadata": {},
     "output_type": "execute_result"
    }
   ],
   "source": [
    "sum_finder([3,5,-4,8,11,1,-1,6], 10)"
   ]
  }
 ],
 "metadata": {
  "kernelspec": {
   "display_name": "4-1",
   "language": "python",
   "name": "4-1"
  },
  "language_info": {
   "codemirror_mode": {
    "name": "ipython",
    "version": 3
   },
   "file_extension": ".py",
   "mimetype": "text/x-python",
   "name": "python",
   "nbconvert_exporter": "python",
   "pygments_lexer": "ipython3",
   "version": "3.7.0"
  }
 },
 "nbformat": 4,
 "nbformat_minor": 4
}
